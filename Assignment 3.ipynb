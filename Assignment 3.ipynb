{
 "cells": [
  {
   "cell_type": "markdown",
   "id": "2b63d815",
   "metadata": {},
   "source": [
    "# Assignment 3: Motion AutoEncoder\n",
    "\n",
    "In this assignment, you will implement and train an autoencoder for motion generation using the CMU-Mocap dataset. You will develop a simplified version of a motion manifold system capable of learning from motion capture data, synthesizing new movements, and enabling basic motion editing techniques.\n",
    "\n",
    "Please read the following two papers as they are your reference for your implementation:\n",
    "* Learning Motion Manifolds with Convolutional Autoencoders, https://www.ipab.inf.ed.ac.uk/cgvu/motioncnn.pdf\n",
    "* A Deep Learning Framework for Character Motion Synthesis and Editing, https://www.ipab.inf.ed.ac.uk/cgvu/motionsynthesis.pdf\n",
    "\n",
    "To help you understand motion data representation, here are some valuable resources:\n",
    "\n",
    "* **CMU Mocap dataset**: https://mocap.cs.cmu.edu/\n",
    "  * The raw data format may be challenging to interpret directly. For easier use, download the BVH format (which our dataloader utilizes): https://github.com/una-dinosauria/cmu-mocap\n",
    "  * Blender (https://www.blender.org/) can be used to visualize the downloaded BVH files. This will provide a clearer understanding of the human skeleton structure used in the dataset and allow you to visualize the raw motion sequences.\n",
    "* **Additional reference** (optional): For a deeper exploration of human models, you can examine more motion data in FBX format at: https://www.mixamo.com/#/?page=1&type=Motion%2CMotionPack\n",
    "  * Note that Mixamo uses a different skeletal structure than our dataset, but it includes human mesh deformation with motion, which BVH data doesn't provide.\n",
    "\n",
    "\n",
    "This assignment includes substantial starter code in separate Python files to help you get started. Your tasks are to:\n",
    "\n",
    "* Complete all sections marked with `TODO` comments. Feel free to add code or restructure functions to improve your implementation's flexibility during training.\n",
    "* Present your results by embedding videos and images in this notebook. You should also answer all questions and complete the write-up sections in this notebook.\n",
    "* Include all necessary video files, images, and code files in your submission for proper evaluation. **Important**: Do NOT submit model checkpoints as these will unnecessarily increase your submission size.\n",
    "\n",
    "**Please reserve enough time for this assignment given the potential amount of time for training.**"
   ]
  },
  {
   "cell_type": "code",
   "execution_count": 1,
   "id": "a74d6697",
   "metadata": {},
   "outputs": [],
   "source": [
    "# For you to add video to your submission.\n",
    "from IPython.display import Video"
   ]
  },
  {
   "cell_type": "markdown",
   "id": "06f45bce",
   "metadata": {},
   "source": [
    "## Part 1: Familiarize Yourself with the Data (10 pt)\n",
    "\n",
    "Unlike previous assignments where standard dataloaders were readily available in existing libraries, this assignment requires implementing a custom dataloader for the CMU-Mocap dataset.\n",
    "\n",
    "We've provided most of the dataloader implementation in `dataloader.py` and included a pre-processed version of the necessary data in `cmu-mocap/cache` (https://utexas.box.com/v/cmu-mocap-cache). Please download this data and place the `cmu-mocap` folder in your current working directory. Alternatively, you can download the BVH files from the links provided earlier and generate your own pre-processed data.\n",
    "\n",
    "For this part, you need to implement data normalization in the dataloader. There are two sets of TODOs in the file:\n",
    "\n",
    "1. First, compute appropriate statistics for normalizing your data based on the entire dataset\n",
    "2. Second, implement the normalization procedure in the `__getitem__` function where the dataloader retrieves one batch of data\n",
    "\n",
    "Upon successful completion of this section, you should be able to visualize four sample motion sequences by running `python dataloader.py`.\n",
    "\n",
    "Important notes:\n",
    "* There are multiple approaches to normalizing motion data. You are free to choose any method that produces reasonable training results in the subsequent sections.\n",
    "* Include visualizations of your **normalized motion** sequences in your submission for this part, following the example format below."
   ]
  },
  {
   "cell_type": "code",
   "execution_count": 2,
   "id": "d62621af",
   "metadata": {},
   "outputs": [
    {
     "data": {
      "text/html": [
       "<video src=\"./vid/sample_0.mp4\" controls  >\n",
       "      Your browser does not support the <code>video</code> element.\n",
       "    </video>"
      ],
      "text/plain": [
       "<IPython.core.display.Video object>"
      ]
     },
     "execution_count": 2,
     "metadata": {},
     "output_type": "execute_result"
    }
   ],
   "source": [
    "# Replace with your own video file.\n",
    "Video('./vid/sample_0.mp4')"
   ]
  },
  {
   "cell_type": "markdown",
   "id": "62e41d0c",
   "metadata": {},
   "source": [
    "## Part 2: Motion Manifold Learning (45 points)\n",
    "\n",
    "In this section, you will implement the neural network architecture and training methodology described in the reference paper to learn a motion manifold.\n",
    "\n",
    "### Convolutional Autoencoder Architecture (15 points)\n",
    "\n",
    "1. Implement the convolutional autoencoder following the architecture detailed in (one of) the reference paper in `MotionAutoencoder`.\n",
    "2. Develop both the encoding and decoding operations that will allow the network to compress motion data into a lower-dimensional manifold representation and then reconstruct it.\n",
    "\n",
    "### Training Procedure (30 points)\n",
    "\n",
    "1. Implement the training procedure in `MotionManifoldTrainer` for your autoencoder, carefully considering the appropriate loss function(s) to use for motion data.\n",
    "2. Generate and include training curves using the visualization template provided in the starter code.\n",
    "\n",
    "Important considerations:\n",
    "1. The reference paper was published several years ago when neural network implementations were often manually coded with custom operations. You'll need to adapt these concepts to modern PyTorch conventions and standard operations. Some training parameters may require adjustment to work effectively with contemporary deep learning frameworks.\n",
    "2. Your submission for this part should include clear visualizations of your training curves showing loss change over time."
   ]
  },
  {
   "cell_type": "markdown",
   "id": "568bc9fe",
   "metadata": {},
   "source": []
  },
  {
   "cell_type": "markdown",
   "id": "a1865573",
   "metadata": {},
   "source": [
    "## Part 3: Motion Synthesis (30 points)\n",
    "\n",
    "### Motion Interpolation (15 points)\n",
    "\n",
    "Implement the function `MotionManifoldSynthesizer.interpolate_motions` that creates transitions between different motions using the learned manifold. This function should accept two motion sequences sampled from the dataset and generate an interpolated motion that blends naturally between them. You can visualize your results using the provided `visualize_interpolation` function.\n",
    "\n",
    "Your submission for this section should include at least two video examples demonstrating motion interpolation between different movement types."
   ]
  },
  {
   "cell_type": "code",
   "execution_count": null,
   "id": "af27c247",
   "metadata": {},
   "outputs": [],
   "source": []
  },
  {
   "cell_type": "markdown",
   "id": "01c238d8",
   "metadata": {},
   "source": [
    "### Fixing Corrupt Motion Data (15 points)\n",
    "\n",
    "Implement the function `MotionManifoldSynthesizer.fix_corrupted_motion` that projects corrupted motion data onto the learned manifold and reconstructs corrected, natural-looking movements. This function should demonstrate the manifold's ability to act as a prior distribution over valid human motion. Use the provided `visualize_motion_comparison` function to create side-by-side comparisons of the corrupted input and your reconstructed output.\n",
    "\n",
    "Your submission for this section should include at least two video examples showing motion correction from different types of corruptions provided in the starter code."
   ]
  },
  {
   "cell_type": "code",
   "execution_count": null,
   "id": "bba45a7c",
   "metadata": {},
   "outputs": [],
   "source": [
    "# Your videos of fixing corrupt motion data."
   ]
  },
  {
   "cell_type": "markdown",
   "id": "dbb2200a",
   "metadata": {},
   "source": [
    "## Part 4. Analysis Questions (15 pt)\n",
    "\n",
    "Answer the question with your analysis. The questions are open-ended. We are looking for you own observasion from the expriments you did. Autoencoder is known as a relatively simple method so a lot of things here won't be perfect.\n",
    "\n",
    "1. Explain your chosen normalization approach for the motion data. Why did you select this method, and how does it specifically address the challenges of human motion data? What other normalization techniques did you consider, and why did you not choose them?\n",
    "\n",
    "[Answer]:\n",
    "\n",
    "2. After training your autoencoder, explore and describe the structure of your learned manifold. You can use t-SNE or PCA to visualize the hidden unit space (include one image in your answer).  Are different motion types clustered in particular regions? Can you identify meaningful directions in the latent space that correspond to specific motion attributes (speed, posture, etc.)?\n",
    "\n",
    "[Answer]:\n",
    "\n",
    "3. Critically analyze the quality of your interpolated motions. Where does the interpolation succeed or fail? What patterns do you notice about transitions between dissimilar motions versus similar ones?\n",
    "\n",
    "[Answer]:\n",
    "\n",
    "4. For the corrupted motion reconstruction task, analyze which types of corruption your system handles well versus poorly. What does this tell you about the properties of your learned manifold?\n",
    "\n",
    "[Answer]:"
   ]
  },
  {
   "cell_type": "markdown",
   "id": "63ba851f",
   "metadata": {},
   "source": [
    "## Extra Credit: Advanced Motion Synthesis and Editing (20 points)\n",
    "\n",
    "In this optional extra credit section, you'll implement more sophisticated motion synthesis techniques and potentially extend your model architecture to achieve these advanced tasks.\n",
    "\n",
    "For this task, you'll develop a method to complete partially specified motion sequences. Given a motion with missing frames, your system should intelligently fill in the gaps while maintaining natural movement characteristics and continuity.\n",
    "\n",
    "You need:\n",
    "- Develop a method to mask out and fill missing segments in motion sequences\n",
    "- Ensure smooth transitions between existing and synthesized motion\n",
    "- Leverage your trained motion manifold to generate plausible completions\n",
    "\n",
    "Your submission shoud:\n",
    "- Provide at least two examples of filling gaps in the middle of motion sequences\n",
    "- Provide at least two examples of extending incomplete motions by synthesizing the ending frames\n",
    "- For each visualization, you need to show the input and output side-by-side\n",
    "- Include a short analysis of your approach and the quality of your results\n",
    "\n",
    "### Motion Edtiting (10 points)\n",
    "\n",
    "For this task, you'll implement the style transfer technique described in \"A Deep Learning Framework for Character Motion Synthesis and Editing.\" This will allow you to transfer the style characteristics of one motion to another while preserving the content of the target motion.\n",
    "\n",
    "You need to develop the method to add constraint on the trained autoencoder.\n",
    "\n",
    "Your submission shoud:\n",
    "- Provide at least three examples of motion editing results between different motion types. Each visualization should include the original content motion, the reference motion, and your result\n",
    "- Write a short analysis of your results, discussing successes, limitations, and potential improvements\n"
   ]
  }
 ],
 "metadata": {
  "kernelspec": {
   "display_name": "basic",
   "language": "python",
   "name": "python3"
  },
  "language_info": {
   "codemirror_mode": {
    "name": "ipython",
    "version": 3
   },
   "file_extension": ".py",
   "mimetype": "text/x-python",
   "name": "python",
   "nbconvert_exporter": "python",
   "pygments_lexer": "ipython3",
   "version": "3.10.5"
  }
 },
 "nbformat": 4,
 "nbformat_minor": 5
}
